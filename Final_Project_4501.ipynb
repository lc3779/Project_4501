{
 "cells": [
  {
   "cell_type": "markdown",
   "id": "a776c18c",
   "metadata": {},
   "source": [
    "### 0: Libraries"
   ]
  },
  {
   "cell_type": "code",
   "execution_count": 9,
   "id": "8993218d",
   "metadata": {},
   "outputs": [],
   "source": [
    "import requests\n",
    "import pandas as pd\n",
    "import geopandas as gpd\n",
    "import json\n",
    "from datetime import datetime, timedelta\n",
    "import os\n",
    "import glob\n",
    "import warnings\n",
    "import psycopg2\n",
    "import sqlalchemy as db\n",
    "import matplotlib.pyplot as plt\n",
    "import numpy as np\n",
    "import seaborn as sns\n",
    "from shapely.geometry import Point\n",
    "import contextily as ctx\n",
    "from geoalchemy2 import Geometry\n",
    "from pathlib import Path\n",
    "import ipywidgets as widgets\n",
    "from ipywidgets import interact\n",
    "\n",
    "import unittest\n",
    "from unittest.mock import patch\n",
    "# warnings\n",
    "warnings.filterwarnings('ignore')"
   ]
  },
  {
   "cell_type": "markdown",
   "id": "4ae2f085",
   "metadata": {},
   "source": [
    "# Part1: Data Processing"
   ]
  },
  {
   "cell_type": "markdown",
   "id": "7d00b80e",
   "metadata": {},
   "source": [
    "## 1.1 Downloading 311 and Tree data from API\n",
    "- Download 311 and Tree data using API and Python Code\n",
    "- 311 Data set is pretty huge, so we choose to download it seperately into subfiles by year, and merge it at the end"
   ]
  },
  {
   "cell_type": "code",
   "execution_count": 10,
   "id": "3ece2940",
   "metadata": {},
   "outputs": [],
   "source": [
    "#1. Function (1) Manually Doanload Data from NYC Open Data\n",
    "def download_data(url, app_token, filename, date_field, start_date, end_date, date_format=\"%Y-%m-%dT%H:%M:%S\", limit=10000):\n",
    "    \"\"\"\n",
    "    Downloads data from the specified NYC Open Data URL within a given date range.\n",
    "\n",
    "    Args:\n",
    "        url (str): The API endpoint for the dataset.\n",
    "        app_token (str): Application token for authenticated access.\n",
    "        filename (str): The name of the file where the data will be saved.\n",
    "        date_field (str): The name of the date field in the dataset.\n",
    "        start_date (datetime): The start date for filtering data.\n",
    "        end_date (datetime): The end date for filtering data.\n",
    "        date_format (str): Format of the date fields, defaults to '%Y-%m-%dT%H:%M:%S'.\n",
    "        limit (int): Number of records to retrieve per request, defaults to 10000.\n",
    "\n",
    "    Returns:\n",
    "        None: This function writes the downloaded data to a file and does not return anything.\n",
    "    \"\"\"\n",
    "    \n",
    "    offset = 0\n",
    "    start_date_str = start_date.strftime(date_format) # Format the start date\n",
    "    end_date_str = end_date.strftime(date_format) # Format the end date\n",
    "    # Construct the query for filtering data by date range\n",
    "    date_query = f\"$where={date_field} between '{start_date_str}' and '{end_date_str}'\"\n",
    "    \n",
    "    first_batch = True  # Flag to identify the first batch of data\n",
    "    while True:\n",
    "        # Construct the full URL with necessary query parameters\n",
    "        full_url = f\"{url}?$$app_token={app_token}&{date_query}&$limit={limit}&$offset={offset}\"\n",
    "        response = requests.get(full_url) # Perform the API request\n",
    "\n",
    "        if response.status_code == 200:\n",
    "            data = response.text\n",
    "            records_retrieved = data.count('\\n')  # Count the number of lines (records) retrieved\n",
    "\n",
    "            if first_batch and records_retrieved > 0:  # If this is the first batch and it contains data\n",
    "                with open(filename, 'w') as file:\n",
    "                    file.write(data) # Write data to file, including header\n",
    "                first_batch = False\n",
    "            elif records_retrieved > 1:  # For subsequent batches, skip the header row\n",
    "                with open(filename, 'a') as file:\n",
    "                    file.write(data.split('\\n', 1)[1])  # Append data to file without header\n",
    "\n",
    "            if records_retrieved < limit + 1:   # Check if all records have been retrieved\n",
    "                break\n",
    "            offset += limit # Increment the offset for the next batch\n",
    "        else:\n",
    "            print(f\"Failed to download data at offset {offset}: Status code {response.status_code}\")\n",
    "            break\n"
   ]
  },
  {
   "cell_type": "code",
   "execution_count": 11,
   "id": "4c24be53",
   "metadata": {},
   "outputs": [],
   "source": [
    "#app Toekn: Application token used for authentication\n",
    "app_token = 'Z8lDMDpdnonlT1RjM5YGII6Ii'\n",
    "#Data URL: Defines the online API URLs for the datasets\n",
    "url_311 = 'https://data.cityofnewyork.us/resource/erm2-nwe9.csv'\n",
    "url_trees = 'https://data.cityofnewyork.us/resource/5rq2-4hqu.csv'"
   ]
  },
  {
   "cell_type": "code",
   "execution_count": 22,
   "id": "0824bdf6",
   "metadata": {},
   "outputs": [
    {
     "data": {
      "text/plain": [
       "'# download tree data\\n# date format \"%m/%d/%Y\":\\ndownload_data(\\n    url=url_trees,\\n    app_token=app_token,  # Ensure you use the correct app token here\\n    filename=\"data/tree_data.csv\",\\n    date_field=\"created_at\",  # Ensure this is the correct field name as per the API documentation\\n    start_date=datetime(2015, 1, 1),\\n    end_date=datetime(2015, 12, 31),\\n    date_format=\"%m/%d/%Y\",  # Adjusted date format to match the dataset\\n    limit=10000\\n)\\n'"
      ]
     },
     "execution_count": 22,
     "metadata": {},
     "output_type": "execute_result"
    }
   ],
   "source": [
    "# download tree data: Initiates the download of tree data\n",
    "# date format \"%m/%d/%Y\": Setting the date format to month/day/year\n",
    "download_data(\n",
    "    url=url_trees,\n",
    "    app_token=app_token,  \n",
    "    filename=\"data/tree_data.csv\",\n",
    "    date_field=\"created_at\",  \n",
    "    start_date=datetime(2015, 1, 1),\n",
    "    end_date=datetime(2015, 12, 31),\n",
    "    date_format=\"%m/%d/%Y\",  \n",
    "    limit=10000\n",
    ")"
   ]
  },
  {
   "cell_type": "code",
   "execution_count": 23,
   "id": "bf278cb8",
   "metadata": {},
   "outputs": [
    {
     "data": {
      "text/plain": [
       "'# download 311 data from 2015.1.1-2023.9.30\\n#create a new folder to save 311 data by year\\nsubfolder_name = \"311_data\"\\nsubfolder_path = os.path.join(\"data\", subfolder_name)\\nif not os.path.exists(subfolder_path):\\n    os.makedirs(subfolder_path)'"
      ]
     },
     "execution_count": 23,
     "metadata": {},
     "output_type": "execute_result"
    }
   ],
   "source": [
    "# download 311 data from 2015.1.1-2023.9.30\n",
    "#create a new folder to save 311 data by year\n",
    "subfolder_name = \"311_data\"\n",
    "subfolder_path = os.path.join(\"data\", subfolder_name)\n",
    "if not os.path.exists(subfolder_path):\n",
    "    os.makedirs(subfolder_path)"
   ]
  },
  {
   "cell_type": "code",
   "execution_count": 24,
   "id": "6bd01fbe",
   "metadata": {},
   "outputs": [
    {
     "data": {
      "text/plain": [
       "'# Run download data function by year\\n#Year 2015\\ndownload_data(\\n    url_311,\\n    app_token,  \\n    filename=\"data/311_data/311_data_2015.csv\",\\n    date_field=\"created_date\",\\n    start_date=datetime(2015, 1, 1, 0, 0),  # This represents 2015-01-01 00:00:00 AM\\n    end_date=datetime(2015, 12, 31, 23, 59, 59),  # This represents 2023-09-30 11:59:59 PM\\n    date_format=\"%Y-%m-%dT%H:%M:%S\",\\n    limit=50000\\n)\\n\\n'"
      ]
     },
     "execution_count": 24,
     "metadata": {},
     "output_type": "execute_result"
    }
   ],
   "source": [
    "# Run download data function by year\n",
    "#Year 2015\n",
    "download_data(\n",
    "    url_311,\n",
    "    app_token,  \n",
    "    filename=\"data/311_data/311_data_2015.csv\",\n",
    "    date_field=\"created_date\",\n",
    "    start_date=datetime(2015, 1, 1, 0, 0),  # This represents 2015-01-01 00:00:00 AM\n",
    "    end_date=datetime(2015, 12, 31, 23, 59, 59),  # This represents 2023-09-30 11:59:59 PM\n",
    "    date_format=\"%Y-%m-%dT%H:%M:%S\",\n",
    "    limit=50000\n",
    ")"
   ]
  },
  {
   "cell_type": "code",
   "execution_count": 12,
   "id": "86a93ee9",
   "metadata": {},
   "outputs": [],
   "source": [
    "# Unit Test (1)\n",
    "# Path to the file you expect to exist\n",
    "filename = \"data/311_data/311_data_2015.csv\"\n",
    "# Assert that the file exists\n",
    "assert os.path.exists(filename), \"File does not exist\""
   ]
  },
  {
   "cell_type": "code",
   "execution_count": 25,
   "id": "e5874efa",
   "metadata": {},
   "outputs": [
    {
     "data": {
      "text/plain": [
       "'# Year 2016\\ndownload_data(\\n    url_311,\\n    app_token,  \\n    filename=\"data/311_data/311_data_2016.csv\",\\n    date_field=\"created_date\",\\n    start_date=datetime(2016, 1, 1, 0, 0),  # This represents 2015-01-01 00:00:00 AM\\n    end_date=datetime(2016, 12, 31, 23, 59, 59),  # This represents 2023-09-30 11:59:59 PM\\n    date_format=\"%Y-%m-%dT%H:%M:%S\",\\n    limit=50000\\n)'"
      ]
     },
     "execution_count": 25,
     "metadata": {},
     "output_type": "execute_result"
    }
   ],
   "source": [
    "# Year 2016\n",
    "download_data(\n",
    "    url_311,\n",
    "    app_token,  \n",
    "    filename=\"data/311_data/311_data_2016.csv\",\n",
    "    date_field=\"created_date\",\n",
    "    start_date=datetime(2016, 1, 1, 0, 0),  \n",
    "    end_date=datetime(2016, 12, 31, 23, 59, 59),  \n",
    "    date_format=\"%Y-%m-%dT%H:%M:%S\",\n",
    "    limit=50000\n",
    ")"
   ]
  },
  {
   "cell_type": "code",
   "execution_count": 26,
   "id": "3db8fdde",
   "metadata": {},
   "outputs": [
    {
     "data": {
      "text/plain": [
       "'# Year 2017\\ndownload_data(\\n    url_311,\\n    app_token,  \\n    filename=\"data/311_data/311_data_2017.csv\",\\n    date_field=\"created_date\",\\n    start_date=datetime(2017, 1, 1, 0, 0),  # This represents 2015-01-01 00:00:00 AM\\n    end_date=datetime(2017, 12, 31, 23, 59, 59),  # This represents 2023-09-30 11:59:59 PM\\n    date_format=\"%Y-%m-%dT%H:%M:%S\",\\n    limit=50000\\n)'"
      ]
     },
     "execution_count": 26,
     "metadata": {},
     "output_type": "execute_result"
    }
   ],
   "source": [
    "# Year 2017\n",
    "download_data(\n",
    "    url_311,\n",
    "    app_token,  \n",
    "    filename=\"data/311_data/311_data_2017.csv\",\n",
    "    date_field=\"created_date\",\n",
    "    start_date=datetime(2017, 1, 1, 0, 0),  \n",
    "    end_date=datetime(2017, 12, 31, 23, 59, 59),  \n",
    "    date_format=\"%Y-%m-%dT%H:%M:%S\",\n",
    "    limit=50000\n",
    ")"
   ]
  },
  {
   "cell_type": "code",
   "execution_count": 27,
   "id": "e09064e2",
   "metadata": {},
   "outputs": [
    {
     "data": {
      "text/plain": [
       "'# Year 2018\\ndownload_data(\\n    url_311,\\n    app_token,  \\n    filename=\"data/311_data/311_data_2018.csv\",\\n    date_field=\"created_date\",\\n    start_date=datetime(2018, 1, 1, 0, 0),  # This represents 2015-01-01 00:00:00 AM\\n    end_date=datetime(2018, 12, 31, 23, 59, 59),  # This represents 2023-09-30 11:59:59 PM\\n    date_format=\"%Y-%m-%dT%H:%M:%S\",\\n    limit=50000\\n)'"
      ]
     },
     "execution_count": 27,
     "metadata": {},
     "output_type": "execute_result"
    }
   ],
   "source": [
    "# Year 2018\n",
    "download_data(\n",
    "    url_311,\n",
    "    app_token,  \n",
    "    filename=\"data/311_data/311_data_2018.csv\",\n",
    "    date_field=\"created_date\",\n",
    "    start_date=datetime(2018, 1, 1, 0, 0),  \n",
    "    end_date=datetime(2018, 12, 31, 23, 59, 59),  \n",
    "    date_format=\"%Y-%m-%dT%H:%M:%S\",\n",
    "    limit=50000\n",
    ")"
   ]
  },
  {
   "cell_type": "code",
   "execution_count": 28,
   "id": "0c1e8cc5",
   "metadata": {},
   "outputs": [
    {
     "data": {
      "text/plain": [
       "'# Year 2019\\ndownload_data(\\n    url_311,\\n    app_token,  \\n    filename=\"data/311_data/311_data_2019.csv\",\\n    date_field=\"created_date\",\\n    start_date=datetime(2019, 1, 1, 0, 0),  # This represents 2015-01-01 00:00:00 AM\\n    end_date=datetime(2019, 12, 31, 23, 59, 59),  # This represents 2023-09-30 11:59:59 PM\\n    date_format=\"%Y-%m-%dT%H:%M:%S\",\\n    limit=50000\\n)'"
      ]
     },
     "execution_count": 28,
     "metadata": {},
     "output_type": "execute_result"
    }
   ],
   "source": [
    "# Year 2019\n",
    "download_data(\n",
    "    url_311,\n",
    "    app_token,  \n",
    "    filename=\"data/311_data/311_data_2019.csv\",\n",
    "    date_field=\"created_date\",\n",
    "    start_date=datetime(2019, 1, 1, 0, 0),  \n",
    "    end_date=datetime(2019, 12, 31, 23, 59, 59),  \n",
    "    date_format=\"%Y-%m-%dT%H:%M:%S\",\n",
    "    limit=50000\n",
    ")"
   ]
  },
  {
   "cell_type": "code",
   "execution_count": 29,
   "id": "51731ca8",
   "metadata": {},
   "outputs": [
    {
     "data": {
      "text/plain": [
       "'# Year 2020\\ndownload_data(\\n    url_311,\\n    app_token,  \\n    filename=\"data/311_data/311_data_2020.csv\",\\n    date_field=\"created_date\",\\n    start_date=datetime(2020, 1, 1, 0, 0),  # This represents 2015-01-01 00:00:00 AM\\n    end_date=datetime(2020, 12, 31, 23, 59, 59),  # This represents 2023-09-30 11:59:59 PM\\n    date_format=\"%Y-%m-%dT%H:%M:%S\",\\n    limit=50000\\n)'"
      ]
     },
     "execution_count": 29,
     "metadata": {},
     "output_type": "execute_result"
    }
   ],
   "source": [
    "# Year 2020\n",
    "download_data(\n",
    "    url_311,\n",
    "    app_token,  \n",
    "    filename=\"data/311_data/311_data_2020.csv\",\n",
    "    date_field=\"created_date\",\n",
    "    start_date=datetime(2020, 1, 1, 0, 0),  \n",
    "    end_date=datetime(2020, 12, 31, 23, 59, 59),  \n",
    "    date_format=\"%Y-%m-%dT%H:%M:%S\",\n",
    "    limit=50000\n",
    ")"
   ]
  },
  {
   "cell_type": "code",
   "execution_count": 30,
   "id": "1bc37827",
   "metadata": {},
   "outputs": [
    {
     "data": {
      "text/plain": [
       "'# Year 2021\\ndownload_data(\\n    url_311,\\n    app_token,  \\n    filename=\"data/311_data/311_data_2021.csv\",\\n    date_field=\"created_date\",\\n    start_date=datetime(2021, 1, 1, 0, 0),  # This represents 2015-01-01 00:00:00 AM\\n    end_date=datetime(2021, 12, 31, 23, 59, 59),  # This represents 2023-09-30 11:59:59 PM\\n    date_format=\"%Y-%m-%dT%H:%M:%S\",\\n    limit=50000\\n)'"
      ]
     },
     "execution_count": 30,
     "metadata": {},
     "output_type": "execute_result"
    }
   ],
   "source": [
    "# Year 2021\n",
    "download_data(\n",
    "    url_311,\n",
    "    app_token,  \n",
    "    filename=\"data/311_data/311_data_2021.csv\",\n",
    "    date_field=\"created_date\",\n",
    "    start_date=datetime(2021, 1, 1, 0, 0),  \n",
    "    end_date=datetime(2021, 12, 31, 23, 59, 59),  \n",
    "    date_format=\"%Y-%m-%dT%H:%M:%S\",\n",
    "    limit=50000\n",
    ")"
   ]
  },
  {
   "cell_type": "code",
   "execution_count": 31,
   "id": "a604954f",
   "metadata": {},
   "outputs": [
    {
     "data": {
      "text/plain": [
       "'# Year 2022\\ndownload_data(\\n    url_311,\\n    app_token,  \\n    filename=\"data/311_data/311_data_2022.csv\",\\n    date_field=\"created_date\",\\n    start_date=datetime(2022, 1, 1, 0, 0),  # This represents 2015-01-01 00:00:00 AM\\n    end_date=datetime(2022, 12, 31, 23, 59, 59),  # This represents 2023-09-30 11:59:59 PM\\n    date_format=\"%Y-%m-%dT%H:%M:%S\",\\n    limit=50000\\n)'"
      ]
     },
     "execution_count": 31,
     "metadata": {},
     "output_type": "execute_result"
    }
   ],
   "source": [
    "# Year 2022\n",
    "download_data(\n",
    "    url_311,\n",
    "    app_token,  \n",
    "    filename=\"data/311_data/311_data_2022.csv\",\n",
    "    date_field=\"created_date\",\n",
    "    start_date=datetime(2022, 1, 1, 0, 0), \n",
    "    end_date=datetime(2022, 12, 31, 23, 59, 59),  \n",
    "    date_format=\"%Y-%m-%dT%H:%M:%S\",\n",
    "    limit=50000\n",
    ")"
   ]
  },
  {
   "cell_type": "code",
   "execution_count": 32,
   "id": "c0d6abfc",
   "metadata": {},
   "outputs": [
    {
     "data": {
      "text/plain": [
       "'# Year 2023\\ndownload_data(\\n    url_311,\\n    app_token,  \\n    filename=\"data/311_data/311_data_2023.csv\",\\n    date_field=\"created_date\",\\n    start_date=datetime(2023, 1, 1, 0, 0),  # This represents 2015-01-01 00:00:00 AM\\n    end_date=datetime(2023, 9, 30, 23, 59, 59),  # This represents 2023-09-30 11:59:59 PM\\n    date_format=\"%Y-%m-%dT%H:%M:%S\",\\n    limit=50000\\n)'"
      ]
     },
     "execution_count": 32,
     "metadata": {},
     "output_type": "execute_result"
    }
   ],
   "source": [
    "# Year 2023\n",
    "download_data(\n",
    "    url_311,\n",
    "    app_token,  \n",
    "    filename=\"data/311_data/311_data_2023.csv\",\n",
    "    date_field=\"created_date\",\n",
    "    start_date=datetime(2023, 1, 1, 0, 0),  \n",
    "    end_date=datetime(2023, 9, 30, 23, 59, 59),  \n",
    "    date_format=\"%Y-%m-%dT%H:%M:%S\",\n",
    "    limit=50000\n",
    ")"
   ]
  }
 ],
 "metadata": {
  "kernelspec": {
   "display_name": "Python 3 (ipykernel)",
   "language": "python",
   "name": "python3"
  },
  "language_info": {
   "codemirror_mode": {
    "name": "ipython",
    "version": 3
   },
   "file_extension": ".py",
   "mimetype": "text/x-python",
   "name": "python",
   "nbconvert_exporter": "python",
   "pygments_lexer": "ipython3",
   "version": "3.11.4"
  }
 },
 "nbformat": 4,
 "nbformat_minor": 5
}
